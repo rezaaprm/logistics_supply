{
 "cells": [
  {
   "cell_type": "markdown",
   "metadata": {},
   "source": [
    "## Logistics Supply Dashboard"
   ]
  },
  {
   "cell_type": "code",
   "execution_count": 92,
   "metadata": {},
   "outputs": [],
   "source": [
    "# Main Library\n",
    "from datetime import datetime\n",
    "\n",
    "import pandas as pd\n",
    "import numpy as np\n",
    "\n",
    "pd.set_option('display.width', 1000)\n",
    "pd.set_option('display.max_columns', 1000)\n",
    "\n",
    "# Visualization Library\n",
    "import matplotlib.pyplot as plt\n",
    "import seaborn as sns"
   ]
  },
  {
   "cell_type": "code",
   "execution_count": 93,
   "metadata": {},
   "outputs": [
    {
     "name": "stdout",
     "output_type": "stream",
     "text": [
      "<class 'pandas.core.frame.DataFrame'>\n",
      "RangeIndex: 8092 entries, 0 to 8091\n",
      "Data columns (total 10 columns):\n",
      " #   Column        Non-Null Count  Dtype         \n",
      "---  ------        --------------  -----         \n",
      " 0   Ship Date     8092 non-null   datetime64[ns]\n",
      " 1   Month         8092 non-null   int32         \n",
      " 2   Year          8092 non-null   int64         \n",
      " 3   Ship Mode     8092 non-null   object        \n",
      " 4   Area          8092 non-null   object        \n",
      " 5   Region        8092 non-null   object        \n",
      " 6   Category      8092 non-null   object        \n",
      " 7   Sub-Category  8092 non-null   object        \n",
      " 8   Sold          8092 non-null   int64         \n",
      " 9   Profit        8092 non-null   int64         \n",
      "dtypes: datetime64[ns](1), int32(1), int64(3), object(5)\n",
      "memory usage: 600.7+ KB\n"
     ]
    }
   ],
   "source": [
    "# Load Dataset\n",
    "dataset = pd.read_csv(\"dataset/dataset-supply.csv\", parse_dates=['Ship Date'])\n",
    "dataset[\"Month\"] = dataset['Ship Date'].dt.month\n",
    "dataset.info()"
   ]
  },
  {
   "cell_type": "markdown",
   "metadata": {},
   "source": [
    "### Pivot Table Analysis - Hardcord"
   ]
  },
  {
   "cell_type": "code",
   "execution_count": 94,
   "metadata": {},
   "outputs": [
    {
     "data": {
      "text/html": [
       "<div>\n",
       "<style scoped>\n",
       "    .dataframe tbody tr th:only-of-type {\n",
       "        vertical-align: middle;\n",
       "    }\n",
       "\n",
       "    .dataframe tbody tr th {\n",
       "        vertical-align: top;\n",
       "    }\n",
       "\n",
       "    .dataframe thead th {\n",
       "        text-align: right;\n",
       "    }\n",
       "</style>\n",
       "<table border=\"1\" class=\"dataframe\">\n",
       "  <thead>\n",
       "    <tr style=\"text-align: right;\">\n",
       "      <th></th>\n",
       "      <th>Category</th>\n",
       "      <th>1</th>\n",
       "      <th>2</th>\n",
       "      <th>3</th>\n",
       "      <th>4</th>\n",
       "      <th>5</th>\n",
       "      <th>6</th>\n",
       "      <th>7</th>\n",
       "      <th>8</th>\n",
       "      <th>9</th>\n",
       "      <th>10</th>\n",
       "      <th>11</th>\n",
       "      <th>12</th>\n",
       "    </tr>\n",
       "  </thead>\n",
       "  <tbody>\n",
       "    <tr>\n",
       "      <th>0</th>\n",
       "      <td>Furniture</td>\n",
       "      <td>21570</td>\n",
       "      <td>10910</td>\n",
       "      <td>28990</td>\n",
       "      <td>25230</td>\n",
       "      <td>28980</td>\n",
       "      <td>38860</td>\n",
       "      <td>35480</td>\n",
       "      <td>26100</td>\n",
       "      <td>71850</td>\n",
       "      <td>33140</td>\n",
       "      <td>73460</td>\n",
       "      <td>94320</td>\n",
       "    </tr>\n",
       "    <tr>\n",
       "      <th>1</th>\n",
       "      <td>Office Supplies</td>\n",
       "      <td>36320</td>\n",
       "      <td>21870</td>\n",
       "      <td>48360</td>\n",
       "      <td>39660</td>\n",
       "      <td>41430</td>\n",
       "      <td>48860</td>\n",
       "      <td>40400</td>\n",
       "      <td>57120</td>\n",
       "      <td>85820</td>\n",
       "      <td>48670</td>\n",
       "      <td>89570</td>\n",
       "      <td>92980</td>\n",
       "    </tr>\n",
       "    <tr>\n",
       "      <th>2</th>\n",
       "      <td>Technology</td>\n",
       "      <td>27250</td>\n",
       "      <td>28090</td>\n",
       "      <td>64340</td>\n",
       "      <td>45610</td>\n",
       "      <td>53920</td>\n",
       "      <td>53710</td>\n",
       "      <td>46950</td>\n",
       "      <td>45770</td>\n",
       "      <td>73810</td>\n",
       "      <td>87480</td>\n",
       "      <td>102240</td>\n",
       "      <td>92780</td>\n",
       "    </tr>\n",
       "  </tbody>\n",
       "</table>\n",
       "</div>"
      ],
      "text/plain": [
       "          Category      1      2      3      4      5      6      7      8      9     10      11     12\n",
       "0        Furniture  21570  10910  28990  25230  28980  38860  35480  26100  71850  33140   73460  94320\n",
       "1  Office Supplies  36320  21870  48360  39660  41430  48860  40400  57120  85820  48670   89570  92980\n",
       "2       Technology  27250  28090  64340  45610  53920  53710  46950  45770  73810  87480  102240  92780"
      ]
     },
     "execution_count": 94,
     "metadata": {},
     "output_type": "execute_result"
    }
   ],
   "source": [
    "df_month = pd.pivot_table(data=dataset, values=\"Sold\", index=\"Category\", columns=\"Month\", aggfunc=\"sum\")\n",
    "\n",
    "df_month.columns = dataset[\"Month\"].sort_values(ascending=True).unique().tolist()\n",
    "\n",
    "df_month.reset_index()"
   ]
  },
  {
   "cell_type": "code",
   "execution_count": 95,
   "metadata": {},
   "outputs": [
    {
     "data": {
      "text/html": [
       "<div>\n",
       "<style scoped>\n",
       "    .dataframe tbody tr th:only-of-type {\n",
       "        vertical-align: middle;\n",
       "    }\n",
       "\n",
       "    .dataframe tbody tr th {\n",
       "        vertical-align: top;\n",
       "    }\n",
       "\n",
       "    .dataframe thead th {\n",
       "        text-align: right;\n",
       "    }\n",
       "</style>\n",
       "<table border=\"1\" class=\"dataframe\">\n",
       "  <thead>\n",
       "    <tr style=\"text-align: right;\">\n",
       "      <th></th>\n",
       "      <th>Category</th>\n",
       "      <th>Bali</th>\n",
       "      <th>Jawa</th>\n",
       "      <th>Kalimantan</th>\n",
       "      <th>Papua</th>\n",
       "      <th>Sulawesi</th>\n",
       "      <th>Sumatra</th>\n",
       "    </tr>\n",
       "  </thead>\n",
       "  <tbody>\n",
       "    <tr>\n",
       "      <th>0</th>\n",
       "      <td>Furniture</td>\n",
       "      <td>69880</td>\n",
       "      <td>53430</td>\n",
       "      <td>103160</td>\n",
       "      <td>94320</td>\n",
       "      <td>92870</td>\n",
       "      <td>75230</td>\n",
       "    </tr>\n",
       "    <tr>\n",
       "      <th>1</th>\n",
       "      <td>Office Supplies</td>\n",
       "      <td>81500</td>\n",
       "      <td>90510</td>\n",
       "      <td>125980</td>\n",
       "      <td>133000</td>\n",
       "      <td>116750</td>\n",
       "      <td>103320</td>\n",
       "    </tr>\n",
       "    <tr>\n",
       "      <th>2</th>\n",
       "      <td>Technology</td>\n",
       "      <td>93280</td>\n",
       "      <td>107560</td>\n",
       "      <td>131800</td>\n",
       "      <td>161040</td>\n",
       "      <td>137640</td>\n",
       "      <td>90630</td>\n",
       "    </tr>\n",
       "  </tbody>\n",
       "</table>\n",
       "</div>"
      ],
      "text/plain": [
       "          Category   Bali    Jawa  Kalimantan   Papua  Sulawesi  Sumatra\n",
       "0        Furniture  69880   53430      103160   94320     92870    75230\n",
       "1  Office Supplies  81500   90510      125980  133000    116750   103320\n",
       "2       Technology  93280  107560      131800  161040    137640    90630"
      ]
     },
     "execution_count": 95,
     "metadata": {},
     "output_type": "execute_result"
    }
   ],
   "source": [
    "df_area = pd.pivot_table(data=dataset, values=\"Sold\", index=\"Category\", columns=\"Area\", aggfunc=\"sum\")\n",
    "\n",
    "df_area.columns = dataset[\"Area\"].sort_values(ascending=True).unique().tolist()\n",
    "\n",
    "df_area.reset_index()"
   ]
  },
  {
   "cell_type": "code",
   "execution_count": 96,
   "metadata": {},
   "outputs": [],
   "source": [
    "def sales_pivot(df, columns, columns_name):\n",
    "\n",
    "    # Calculate Pivot\n",
    "    df = pd.pivot_table(data=df, values=\"Sold\", index=\"Category\", columns=columns, aggfunc=\"sum\")\n",
    "    df.columns = columns_name\n",
    "    df = df.reset_index()\n",
    "\n",
    "    # Return Values\n",
    "    return df"
   ]
  },
  {
   "cell_type": "code",
   "execution_count": 97,
   "metadata": {},
   "outputs": [
    {
     "name": "stdout",
     "output_type": "stream",
     "text": [
      "          Category      1      2      3      4      5      6      7      8      9     10      11     12\n",
      "0        Furniture  21570  10910  28990  25230  28980  38860  35480  26100  71850  33140   73460  94320\n",
      "1  Office Supplies  36320  21870  48360  39660  41430  48860  40400  57120  85820  48670   89570  92980\n",
      "2       Technology  27250  28090  64340  45610  53920  53710  46950  45770  73810  87480  102240  92780\n"
     ]
    }
   ],
   "source": [
    "df_month = sales_pivot(df=dataset, columns=\"Month\", columns_name=dataset[\"Month\"].sort_values().unique().tolist())\n",
    "print(df_month)"
   ]
  },
  {
   "cell_type": "code",
   "execution_count": 98,
   "metadata": {},
   "outputs": [
    {
     "name": "stdout",
     "output_type": "stream",
     "text": [
      "          Category    2014    2015    2016    2017\n",
      "0        Furniture  100460  116160  136660  135610\n",
      "1  Office Supplies  132840  126560  170940  220720\n",
      "2       Technology  119840  152660  208900  240550\n"
     ]
    }
   ],
   "source": [
    "df_year = sales_pivot(df=dataset, columns=\"Year\", columns_name=dataset[\"Year\"].sort_values().unique().tolist())\n",
    "print(df_year)"
   ]
  },
  {
   "cell_type": "code",
   "execution_count": 99,
   "metadata": {},
   "outputs": [
    {
     "name": "stdout",
     "output_type": "stream",
     "text": [
      "          Category  First Class  Same Day  Second Class  Standard Class\n",
      "0        Furniture        72430     23700        106740          286020\n",
      "1  Office Supplies        94410     28890        146260          381500\n",
      "2       Technology       128840     49340        130040          413730\n"
     ]
    }
   ],
   "source": [
    "df_ship_mode = sales_pivot(df=dataset, columns=\"Ship Mode\", columns_name=dataset[\"Ship Mode\"].sort_values().unique().tolist())\n",
    "print(df_ship_mode)"
   ]
  },
  {
   "cell_type": "code",
   "execution_count": 100,
   "metadata": {},
   "outputs": [
    {
     "name": "stdout",
     "output_type": "stream",
     "text": [
      "          Category   Bali    Jawa  Kalimantan   Papua  Sulawesi  Sumatra\n",
      "0        Furniture  69880   53430      103160   94320     92870    75230\n",
      "1  Office Supplies  81500   90510      125980  133000    116750   103320\n",
      "2       Technology  93280  107560      131800  161040    137640    90630\n"
     ]
    }
   ],
   "source": [
    "df_area = sales_pivot(df=dataset, columns=\"Area\", columns_name=dataset[\"Area\"].sort_values().unique().tolist())\n",
    "print(df_area)"
   ]
  },
  {
   "cell_type": "code",
   "execution_count": 101,
   "metadata": {},
   "outputs": [
    {
     "name": "stdout",
     "output_type": "stream",
     "text": [
      "          Category  Central    East   South    West\n",
      "0        Furniture    79310  123000   86150  200430\n",
      "1  Office Supplies   138590  184870  109370  218230\n",
      "2       Technology   148800  219890  109220  244040\n"
     ]
    }
   ],
   "source": [
    "df_region = sales_pivot(df=dataset, columns=\"Region\", columns_name=dataset[\"Region\"].sort_values().unique().tolist())\n",
    "print(df_region)"
   ]
  },
  {
   "cell_type": "markdown",
   "metadata": {},
   "source": [
    "### Pivot Table Analysis - Soft Code"
   ]
  },
  {
   "cell_type": "markdown",
   "metadata": {},
   "source": [
    "- Analyze Profit"
   ]
  },
  {
   "cell_type": "code",
   "execution_count": 102,
   "metadata": {},
   "outputs": [],
   "source": [
    "def category_profit(df, category):\n",
    "\n",
    "    sum_profit = df.query(\"Category == @category\")[\"Profit\"].sum()\n",
    "    sum_profit = \"{:,}\".format(sum_profit)\n",
    "\n",
    "    return sum_profit"
   ]
  },
  {
   "cell_type": "code",
   "execution_count": 103,
   "metadata": {},
   "outputs": [
    {
     "data": {
      "text/plain": [
       "'946,090,000'"
      ]
     },
     "execution_count": 103,
     "metadata": {},
     "output_type": "execute_result"
    }
   ],
   "source": [
    "furniture = category_profit(dataset, 'Furniture')\n",
    "furniture"
   ]
  },
  {
   "cell_type": "code",
   "execution_count": 104,
   "metadata": {},
   "outputs": [
    {
     "data": {
      "text/plain": [
       "'2,142,769,900'"
      ]
     },
     "execution_count": 104,
     "metadata": {},
     "output_type": "execute_result"
    }
   ],
   "source": [
    "office_supplies = category_profit(dataset, 'Office Supplies')\n",
    "office_supplies"
   ]
  },
  {
   "cell_type": "code",
   "execution_count": 105,
   "metadata": {},
   "outputs": [
    {
     "data": {
      "text/plain": [
       "'2,208,134,900'"
      ]
     },
     "execution_count": 105,
     "metadata": {},
     "output_type": "execute_result"
    }
   ],
   "source": [
    "technology = category_profit(dataset, 'Technology')\n",
    "technology"
   ]
  },
  {
   "cell_type": "code",
   "execution_count": 106,
   "metadata": {},
   "outputs": [
    {
     "data": {
      "text/plain": [
       "'5,296,994,800'"
      ]
     },
     "execution_count": 106,
     "metadata": {},
     "output_type": "execute_result"
    }
   ],
   "source": [
    "# Sum of profit on all category\n",
    "total_profit = \"{:,}\".format(dataset[\"Profit\"].sum())\n",
    "total_profit"
   ]
  },
  {
   "cell_type": "markdown",
   "metadata": {},
   "source": [
    "- Analyze Unpivot"
   ]
  },
  {
   "cell_type": "code",
   "execution_count": 107,
   "metadata": {},
   "outputs": [],
   "source": [
    "category = \"Office Supplies\" # Office Supplies, Furniture, Technology"
   ]
  },
  {
   "cell_type": "code",
   "execution_count": 108,
   "metadata": {},
   "outputs": [],
   "source": [
    "def unpivot(df, category):\n",
    "\n",
    "    # Process unpivot\n",
    "    df = pd.melt(df.query(\"Category == @category\"), id_vars=[\"Category\"], var_name=\"Labels\", value_name=\"Values\")\n",
    "\n",
    "    # Calculate percent\n",
    "    df[\"Percent\"] = np.round((df[\"Values\"] / df[\"Values\"].sum()) * 100)\n",
    "\n",
    "    # Show results\n",
    "    # df = df.sort_values(by=[\"Percent\"], ascending=True).tail(4)\n",
    "\n",
    "    return df"
   ]
  },
  {
   "cell_type": "code",
   "execution_count": 109,
   "metadata": {},
   "outputs": [
    {
     "data": {
      "text/html": [
       "<div>\n",
       "<style scoped>\n",
       "    .dataframe tbody tr th:only-of-type {\n",
       "        vertical-align: middle;\n",
       "    }\n",
       "\n",
       "    .dataframe tbody tr th {\n",
       "        vertical-align: top;\n",
       "    }\n",
       "\n",
       "    .dataframe thead th {\n",
       "        text-align: right;\n",
       "    }\n",
       "</style>\n",
       "<table border=\"1\" class=\"dataframe\">\n",
       "  <thead>\n",
       "    <tr style=\"text-align: right;\">\n",
       "      <th></th>\n",
       "      <th>Category</th>\n",
       "      <th>Labels</th>\n",
       "      <th>Values</th>\n",
       "      <th>Percent</th>\n",
       "    </tr>\n",
       "  </thead>\n",
       "  <tbody>\n",
       "    <tr>\n",
       "      <th>9</th>\n",
       "      <td>Office Supplies</td>\n",
       "      <td>10</td>\n",
       "      <td>48670</td>\n",
       "      <td>7.0</td>\n",
       "    </tr>\n",
       "    <tr>\n",
       "      <th>10</th>\n",
       "      <td>Office Supplies</td>\n",
       "      <td>11</td>\n",
       "      <td>89570</td>\n",
       "      <td>14.0</td>\n",
       "    </tr>\n",
       "    <tr>\n",
       "      <th>11</th>\n",
       "      <td>Office Supplies</td>\n",
       "      <td>12</td>\n",
       "      <td>92980</td>\n",
       "      <td>14.0</td>\n",
       "    </tr>\n",
       "  </tbody>\n",
       "</table>\n",
       "</div>"
      ],
      "text/plain": [
       "           Category Labels  Values  Percent\n",
       "9   Office Supplies     10   48670      7.0\n",
       "10  Office Supplies     11   89570     14.0\n",
       "11  Office Supplies     12   92980     14.0"
      ]
     },
     "execution_count": 109,
     "metadata": {},
     "output_type": "execute_result"
    }
   ],
   "source": [
    "df = unpivot(df_month, category)\n",
    "df.tail(3)"
   ]
  },
  {
   "cell_type": "code",
   "execution_count": 110,
   "metadata": {},
   "outputs": [
    {
     "data": {
      "image/png": "[encoded data removed]",
      "text/plain": [
       "<Figure size 1200x400 with 1 Axes>"
      ]
     },
     "metadata": {},
     "output_type": "display_data"
    }
   ],
   "source": [
    "fig, ax = plt.subplots(figsize= (12,4))\n",
    "\n",
    "sns.lineplot(data=df, x=\"Labels\", y=\"Percent\", lw=2.5)\n",
    "\n",
    "ax.set_title(\"\", fontsize=14)\n",
    "ax.set_xlabel(\"\", fontsize=12)\n",
    "ax.set_ylabel(\"\", fontsize=12)\n",
    "ax.grid(True)\n",
    "\n",
    "ax.set_xticks(np.arange(1, 13, 1), np.arange(1, 13, 1))\n",
    "ax.set_yticks(np.arange(0, 31, 5))\n",
    "\n",
    "plt.tight_layout()\n",
    "plt.show()"
   ]
  },
  {
   "cell_type": "code",
   "execution_count": 111,
   "metadata": {},
   "outputs": [
    {
     "data": {
      "text/html": [
       "<div>\n",
       "<style scoped>\n",
       "    .dataframe tbody tr th:only-of-type {\n",
       "        vertical-align: middle;\n",
       "    }\n",
       "\n",
       "    .dataframe tbody tr th {\n",
       "        vertical-align: top;\n",
       "    }\n",
       "\n",
       "    .dataframe thead th {\n",
       "        text-align: right;\n",
       "    }\n",
       "</style>\n",
       "<table border=\"1\" class=\"dataframe\">\n",
       "  <thead>\n",
       "    <tr style=\"text-align: right;\">\n",
       "      <th></th>\n",
       "      <th>Category</th>\n",
       "      <th>Labels</th>\n",
       "      <th>Values</th>\n",
       "      <th>Percent</th>\n",
       "    </tr>\n",
       "  </thead>\n",
       "  <tbody>\n",
       "    <tr>\n",
       "      <th>3</th>\n",
       "      <td>Office Supplies</td>\n",
       "      <td>Papua</td>\n",
       "      <td>133000</td>\n",
       "      <td>20.0</td>\n",
       "    </tr>\n",
       "    <tr>\n",
       "      <th>4</th>\n",
       "      <td>Office Supplies</td>\n",
       "      <td>Sulawesi</td>\n",
       "      <td>116750</td>\n",
       "      <td>18.0</td>\n",
       "    </tr>\n",
       "    <tr>\n",
       "      <th>5</th>\n",
       "      <td>Office Supplies</td>\n",
       "      <td>Sumatra</td>\n",
       "      <td>103320</td>\n",
       "      <td>16.0</td>\n",
       "    </tr>\n",
       "  </tbody>\n",
       "</table>\n",
       "</div>"
      ],
      "text/plain": [
       "          Category    Labels  Values  Percent\n",
       "3  Office Supplies     Papua  133000     20.0\n",
       "4  Office Supplies  Sulawesi  116750     18.0\n",
       "5  Office Supplies   Sumatra  103320     16.0"
      ]
     },
     "execution_count": 111,
     "metadata": {},
     "output_type": "execute_result"
    }
   ],
   "source": [
    "df = unpivot(df_area, category)\n",
    "df.tail(3)"
   ]
  },
  {
   "cell_type": "code",
   "execution_count": 112,
   "metadata": {},
   "outputs": [
    {
     "data": {
      "image/png": "[encoded data removed]",
      "text/plain": [
       "<Figure size 1200x400 with 1 Axes>"
      ]
     },
     "metadata": {},
     "output_type": "display_data"
    }
   ],
   "source": [
    "fig, ax = plt.subplots(figsize= (12,4))\n",
    "\n",
    "sns.barplot(data=df, x=\"Labels\", y=\"Percent\", lw=2.5, hue=\"Labels\", palette=\"YlGn\")\n",
    "\n",
    "ax.set_title(\"\", fontsize=14)\n",
    "ax.set_xlabel(\"\", fontsize=12)\n",
    "ax.set_ylabel(\"\", fontsize=12)\n",
    "ax.grid(True)\n",
    "\n",
    "plt.tight_layout()\n",
    "plt.show()"
   ]
  },
  {
   "cell_type": "code",
   "execution_count": 113,
   "metadata": {},
   "outputs": [
    {
     "data": {
      "text/html": [
       "<div>\n",
       "<style scoped>\n",
       "    .dataframe tbody tr th:only-of-type {\n",
       "        vertical-align: middle;\n",
       "    }\n",
       "\n",
       "    .dataframe tbody tr th {\n",
       "        vertical-align: top;\n",
       "    }\n",
       "\n",
       "    .dataframe thead th {\n",
       "        text-align: right;\n",
       "    }\n",
       "</style>\n",
       "<table border=\"1\" class=\"dataframe\">\n",
       "  <thead>\n",
       "    <tr style=\"text-align: right;\">\n",
       "      <th></th>\n",
       "      <th>Category</th>\n",
       "      <th>Labels</th>\n",
       "      <th>Values</th>\n",
       "      <th>Percent</th>\n",
       "    </tr>\n",
       "  </thead>\n",
       "  <tbody>\n",
       "    <tr>\n",
       "      <th>1</th>\n",
       "      <td>Office Supplies</td>\n",
       "      <td>East</td>\n",
       "      <td>184870</td>\n",
       "      <td>28.0</td>\n",
       "    </tr>\n",
       "    <tr>\n",
       "      <th>2</th>\n",
       "      <td>Office Supplies</td>\n",
       "      <td>South</td>\n",
       "      <td>109370</td>\n",
       "      <td>17.0</td>\n",
       "    </tr>\n",
       "    <tr>\n",
       "      <th>3</th>\n",
       "      <td>Office Supplies</td>\n",
       "      <td>West</td>\n",
       "      <td>218230</td>\n",
       "      <td>34.0</td>\n",
       "    </tr>\n",
       "  </tbody>\n",
       "</table>\n",
       "</div>"
      ],
      "text/plain": [
       "          Category Labels  Values  Percent\n",
       "1  Office Supplies   East  184870     28.0\n",
       "2  Office Supplies  South  109370     17.0\n",
       "3  Office Supplies   West  218230     34.0"
      ]
     },
     "execution_count": 113,
     "metadata": {},
     "output_type": "execute_result"
    }
   ],
   "source": [
    "df = unpivot(df_region, category)\n",
    "df.tail(3)"
   ]
  },
  {
   "cell_type": "code",
   "execution_count": 114,
   "metadata": {},
   "outputs": [
    {
     "data": {
      "image/png": "[encoded data removed]",
      "text/plain": [
       "<Figure size 1200x400 with 1 Axes>"
      ]
     },
     "metadata": {},
     "output_type": "display_data"
    }
   ],
   "source": [
    "fig, ax = plt.subplots(figsize= (12,4))\n",
    "\n",
    "sns.barplot(data=df, x=\"Labels\", y=\"Percent\", lw=2.5, hue=\"Labels\", palette=\"YlGn\")\n",
    "\n",
    "ax.set_title(\"\", fontsize=14)\n",
    "ax.set_xlabel(\"\", fontsize=12)\n",
    "ax.set_ylabel(\"\", fontsize=12)\n",
    "ax.grid(True)\n",
    "\n",
    "\n",
    "plt.tight_layout()\n",
    "plt.show()"
   ]
  },
  {
   "cell_type": "code",
   "execution_count": 115,
   "metadata": {},
   "outputs": [
    {
     "data": {
      "text/html": [
       "<div>\n",
       "<style scoped>\n",
       "    .dataframe tbody tr th:only-of-type {\n",
       "        vertical-align: middle;\n",
       "    }\n",
       "\n",
       "    .dataframe tbody tr th {\n",
       "        vertical-align: top;\n",
       "    }\n",
       "\n",
       "    .dataframe thead th {\n",
       "        text-align: right;\n",
       "    }\n",
       "</style>\n",
       "<table border=\"1\" class=\"dataframe\">\n",
       "  <thead>\n",
       "    <tr style=\"text-align: right;\">\n",
       "      <th></th>\n",
       "      <th>Category</th>\n",
       "      <th>Labels</th>\n",
       "      <th>Values</th>\n",
       "      <th>Percent</th>\n",
       "    </tr>\n",
       "  </thead>\n",
       "  <tbody>\n",
       "    <tr>\n",
       "      <th>1</th>\n",
       "      <td>Office Supplies</td>\n",
       "      <td>2015</td>\n",
       "      <td>126560</td>\n",
       "      <td>19.0</td>\n",
       "    </tr>\n",
       "    <tr>\n",
       "      <th>2</th>\n",
       "      <td>Office Supplies</td>\n",
       "      <td>2016</td>\n",
       "      <td>170940</td>\n",
       "      <td>26.0</td>\n",
       "    </tr>\n",
       "    <tr>\n",
       "      <th>3</th>\n",
       "      <td>Office Supplies</td>\n",
       "      <td>2017</td>\n",
       "      <td>220720</td>\n",
       "      <td>34.0</td>\n",
       "    </tr>\n",
       "  </tbody>\n",
       "</table>\n",
       "</div>"
      ],
      "text/plain": [
       "          Category Labels  Values  Percent\n",
       "1  Office Supplies   2015  126560     19.0\n",
       "2  Office Supplies   2016  170940     26.0\n",
       "3  Office Supplies   2017  220720     34.0"
      ]
     },
     "execution_count": 115,
     "metadata": {},
     "output_type": "execute_result"
    }
   ],
   "source": [
    "df = unpivot(df_year, category)\n",
    "df.tail(3)"
   ]
  },
  {
   "cell_type": "code",
   "execution_count": 117,
   "metadata": {},
   "outputs": [
    {
     "data": {
      "image/png": "[encoded data removed]",
      "text/plain": [
       "<Figure size 1200x400 with 1 Axes>"
      ]
     },
     "metadata": {},
     "output_type": "display_data"
    }
   ],
   "source": [
    "fig, ax = plt.subplots(figsize= (12,4))\n",
    "\n",
    "sns.barplot(data=df, x=\"Labels\", y=\"Percent\", lw=2.5, hue=\"Labels\", palette=\"YlGn\")\n",
    "\n",
    "ax.set_title(\"\", fontsize=14)\n",
    "ax.set_xlabel(\"\", fontsize=12)\n",
    "ax.set_ylabel(\"\", fontsize=12)\n",
    "ax.grid(True)\n",
    "\n",
    "\n",
    "plt.tight_layout()\n",
    "plt.show()"
   ]
  },
  {
   "cell_type": "code",
   "execution_count": 118,
   "metadata": {},
   "outputs": [
    {
     "data": {
      "text/html": [
       "<div>\n",
       "<style scoped>\n",
       "    .dataframe tbody tr th:only-of-type {\n",
       "        vertical-align: middle;\n",
       "    }\n",
       "\n",
       "    .dataframe tbody tr th {\n",
       "        vertical-align: top;\n",
       "    }\n",
       "\n",
       "    .dataframe thead th {\n",
       "        text-align: right;\n",
       "    }\n",
       "</style>\n",
       "<table border=\"1\" class=\"dataframe\">\n",
       "  <thead>\n",
       "    <tr style=\"text-align: right;\">\n",
       "      <th></th>\n",
       "      <th>Category</th>\n",
       "      <th>Labels</th>\n",
       "      <th>Values</th>\n",
       "      <th>Percent</th>\n",
       "    </tr>\n",
       "  </thead>\n",
       "  <tbody>\n",
       "    <tr>\n",
       "      <th>1</th>\n",
       "      <td>Office Supplies</td>\n",
       "      <td>Same Day</td>\n",
       "      <td>28890</td>\n",
       "      <td>4.0</td>\n",
       "    </tr>\n",
       "    <tr>\n",
       "      <th>2</th>\n",
       "      <td>Office Supplies</td>\n",
       "      <td>Second Class</td>\n",
       "      <td>146260</td>\n",
       "      <td>22.0</td>\n",
       "    </tr>\n",
       "    <tr>\n",
       "      <th>3</th>\n",
       "      <td>Office Supplies</td>\n",
       "      <td>Standard Class</td>\n",
       "      <td>381500</td>\n",
       "      <td>59.0</td>\n",
       "    </tr>\n",
       "  </tbody>\n",
       "</table>\n",
       "</div>"
      ],
      "text/plain": [
       "          Category          Labels  Values  Percent\n",
       "1  Office Supplies        Same Day   28890      4.0\n",
       "2  Office Supplies    Second Class  146260     22.0\n",
       "3  Office Supplies  Standard Class  381500     59.0"
      ]
     },
     "execution_count": 118,
     "metadata": {},
     "output_type": "execute_result"
    }
   ],
   "source": [
    "df = unpivot(df_ship_mode, category)\n",
    "df.tail(3)"
   ]
  },
  {
   "cell_type": "code",
   "execution_count": 119,
   "metadata": {},
   "outputs": [
    {
     "data": {
      "image/png": "[encoded data removed]",
      "text/plain": [
       "<Figure size 1200x400 with 1 Axes>"
      ]
     },
     "metadata": {},
     "output_type": "display_data"
    }
   ],
   "source": [
    "fig, ax = plt.subplots(figsize= (12,4))\n",
    "\n",
    "sns.barplot(data=df, x=\"Labels\", y=\"Percent\", lw=2.5, hue=\"Labels\", palette=\"YlGn\")\n",
    "\n",
    "ax.set_title(\"\", fontsize=14)\n",
    "ax.set_xlabel(\"\", fontsize=12)\n",
    "ax.set_ylabel(\"\", fontsize=12)\n",
    "ax.grid(True)\n",
    "\n",
    "\n",
    "plt.tight_layout()\n",
    "plt.show()"
   ]
  }
 ],
 "metadata": {
  "kernelspec": {
   "display_name": "base",
   "language": "python",
   "name": "python3"
  },
  "language_info": {
   "codemirror_mode": {
    "name": "ipython",
    "version": 3
   },
   "file_extension": ".py",
   "mimetype": "text/x-python",
   "name": "python",
   "nbconvert_exporter": "python",
   "pygments_lexer": "ipython3",
   "version": "3.11.7"
  }
 },
 "nbformat": 4,
 "nbformat_minor": 2
}
